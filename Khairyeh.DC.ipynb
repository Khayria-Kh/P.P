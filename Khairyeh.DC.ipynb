{
 "cells": [
  {
   "cell_type": "code",
   "execution_count": 1,
   "id": "dc1bf62f-637a-4a32-a0d8-5fb6aa017342",
   "metadata": {},
   "outputs": [],
   "source": [
    "import pandas as pd\n",
    "import numpy as np"
   ]
  },
  {
   "cell_type": "code",
   "execution_count": 3,
   "id": "d0142536-9627-4c73-b8f1-bac7c84772c7",
   "metadata": {},
   "outputs": [],
   "source": [
    "# File paths\n",
    "youtube_data_path = \"C:/Users/User/Desktop/My_project/Global_YouTube_Statistics.csv\"\n",
    "internet_usage_data_path = \"C:/Users/User/Desktop/My_project/World_Internet_Usage_Data.csv\""
   ]
  },
  {
   "cell_type": "code",
   "execution_count": 5,
   "id": "edb88377-b5a1-4eac-a23d-46a095b265ab",
   "metadata": {},
   "outputs": [],
   "source": [
    "# Load YouTube data\n",
    "youtube_data = pd.read_csv(youtube_data_path, encoding='ISO-8859-1')"
   ]
  },
  {
   "cell_type": "code",
   "execution_count": 7,
   "id": "05d1eeee-759f-4a87-b3e8-346274c495a7",
   "metadata": {},
   "outputs": [
    {
     "name": "stdout",
     "output_type": "stream",
     "text": [
      "Shape of YouTube data: (995, 28)\n",
      "Columns in YouTube data: Index(['rank', 'Youtuber', 'subscribers', 'video views', 'category', 'Title',\n",
      "       'uploads', 'Country', 'Abbreviation', 'channel_type',\n",
      "       'video_views_rank', 'country_rank', 'channel_type_rank',\n",
      "       'video_views_for_the_last_30_days', 'lowest_monthly_earnings',\n",
      "       'highest_monthly_earnings', 'lowest_yearly_earnings',\n",
      "       'highest_yearly_earnings', 'subscribers_for_last_30_days',\n",
      "       'created_year', 'created_month', 'created_date',\n",
      "       'Gross tertiary education enrollment (%)', 'Population',\n",
      "       'Unemployment rate', 'Urban_population', 'Latitude', 'Longitude'],\n",
      "      dtype='object')\n",
      "Preview of YouTube data:\n",
      "   rank                    Youtuber  subscribers   video views  \\\n",
      "0     1                    T-Series    245000000  2.280000e+11   \n",
      "1     2              YouTube Movies    170000000  0.000000e+00   \n",
      "2     3                     MrBeast    166000000  2.836884e+10   \n",
      "3     4  Cocomelon - Nursery Rhymes    162000000  1.640000e+11   \n",
      "4     5                   SET India    159000000  1.480000e+11   \n",
      "\n",
      "           category                       Title  uploads        Country  \\\n",
      "0             Music                    T-Series    20082          India   \n",
      "1  Film & Animation               youtubemovies        1  United States   \n",
      "2     Entertainment                     MrBeast      741  United States   \n",
      "3         Education  Cocomelon - Nursery Rhymes      966  United States   \n",
      "4             Shows                   SET India   116536          India   \n",
      "\n",
      "  Abbreviation   channel_type  ...  subscribers_for_last_30_days  \\\n",
      "0           IN          Music  ...                     2000000.0   \n",
      "1           US          Games  ...                           NaN   \n",
      "2           US  Entertainment  ...                     8000000.0   \n",
      "3           US      Education  ...                     1000000.0   \n",
      "4           IN  Entertainment  ...                     1000000.0   \n",
      "\n",
      "   created_year  created_month  created_date  \\\n",
      "0        2006.0            Mar          13.0   \n",
      "1        2006.0            Mar           5.0   \n",
      "2        2012.0            Feb          20.0   \n",
      "3        2006.0            Sep           1.0   \n",
      "4        2006.0            Sep          20.0   \n",
      "\n",
      "   Gross tertiary education enrollment (%)    Population  Unemployment rate  \\\n",
      "0                                     28.1  1.366418e+09               5.36   \n",
      "1                                     88.2  3.282395e+08              14.70   \n",
      "2                                     88.2  3.282395e+08              14.70   \n",
      "3                                     88.2  3.282395e+08              14.70   \n",
      "4                                     28.1  1.366418e+09               5.36   \n",
      "\n",
      "   Urban_population   Latitude  Longitude  \n",
      "0       471031528.0  20.593684  78.962880  \n",
      "1       270663028.0  37.090240 -95.712891  \n",
      "2       270663028.0  37.090240 -95.712891  \n",
      "3       270663028.0  37.090240 -95.712891  \n",
      "4       471031528.0  20.593684  78.962880  \n",
      "\n",
      "[5 rows x 28 columns]\n"
     ]
    }
   ],
   "source": [
    "# Overview of the dataset\n",
    "print(\"Shape of YouTube data:\", youtube_data.shape)\n",
    "print(\"Columns in YouTube data:\", youtube_data.columns)\n",
    "print(\"Preview of YouTube data:\")\n",
    "print(youtube_data.head())"
   ]
  },
  {
   "cell_type": "code",
   "execution_count": 9,
   "id": "ed480f34-7269-4157-a2f7-f03657d9c771",
   "metadata": {},
   "outputs": [
    {
     "name": "stdout",
     "output_type": "stream",
     "text": [
      "Data types in YouTube data:\n",
      "rank                                         int64\n",
      "Youtuber                                    object\n",
      "subscribers                                  int64\n",
      "video views                                float64\n",
      "category                                    object\n",
      "Title                                       object\n",
      "uploads                                      int64\n",
      "Country                                     object\n",
      "Abbreviation                                object\n",
      "channel_type                                object\n",
      "video_views_rank                           float64\n",
      "country_rank                               float64\n",
      "channel_type_rank                          float64\n",
      "video_views_for_the_last_30_days           float64\n",
      "lowest_monthly_earnings                    float64\n",
      "highest_monthly_earnings                   float64\n",
      "lowest_yearly_earnings                     float64\n",
      "highest_yearly_earnings                    float64\n",
      "subscribers_for_last_30_days               float64\n",
      "created_year                               float64\n",
      "created_month                               object\n",
      "created_date                               float64\n",
      "Gross tertiary education enrollment (%)    float64\n",
      "Population                                 float64\n",
      "Unemployment rate                          float64\n",
      "Urban_population                           float64\n",
      "Latitude                                   float64\n",
      "Longitude                                  float64\n",
      "dtype: object\n"
     ]
    }
   ],
   "source": [
    "# Data types of each column\n",
    "print(\"Data types in YouTube data:\")\n",
    "print(youtube_data.dtypes)"
   ]
  },
  {
   "cell_type": "code",
   "execution_count": 11,
   "id": "33d2d1f7-7a1f-47a1-9e3b-2f2cff595186",
   "metadata": {},
   "outputs": [
    {
     "name": "stdout",
     "output_type": "stream",
     "text": [
      "Basic statistics for numeric columns:\n",
      "            rank   subscribers   video views        uploads  video_views_rank  \\\n",
      "count  995.00000  9.950000e+02  9.950000e+02     995.000000      9.940000e+02   \n",
      "mean   498.00000  2.298241e+07  1.103954e+10    9187.125628      5.542489e+05   \n",
      "std    287.37606  1.752611e+07  1.411084e+10   34151.352254      1.362782e+06   \n",
      "min      1.00000  1.230000e+07  0.000000e+00       0.000000      1.000000e+00   \n",
      "25%    249.50000  1.450000e+07  4.288145e+09     194.500000      3.230000e+02   \n",
      "50%    498.00000  1.770000e+07  7.760820e+09     729.000000      9.155000e+02   \n",
      "75%    746.50000  2.460000e+07  1.355470e+10    2667.500000      3.584500e+03   \n",
      "max    995.00000  2.450000e+08  2.280000e+11  301308.000000      4.057944e+06   \n",
      "\n",
      "       country_rank  channel_type_rank  video_views_for_the_last_30_days  \\\n",
      "count    879.000000         962.000000                      9.390000e+02   \n",
      "mean     386.053470         745.719335                      1.756103e+08   \n",
      "std     1232.244746        1944.386561                      4.163782e+08   \n",
      "min        1.000000           1.000000                      1.000000e+00   \n",
      "25%       11.000000          27.000000                      2.013750e+07   \n",
      "50%       51.000000          65.500000                      6.408500e+07   \n",
      "75%      123.000000         139.750000                      1.688265e+08   \n",
      "max     7741.000000        7741.000000                      6.589000e+09   \n",
      "\n",
      "       lowest_monthly_earnings  highest_monthly_earnings  ...  \\\n",
      "count               995.000000              9.950000e+02  ...   \n",
      "mean              36886.148281              5.898078e+05  ...   \n",
      "std               71858.724092              1.148622e+06  ...   \n",
      "min                   0.000000              0.000000e+00  ...   \n",
      "25%                2700.000000              4.350000e+04  ...   \n",
      "50%               13300.000000              2.127000e+05  ...   \n",
      "75%               37900.000000              6.068000e+05  ...   \n",
      "max              850900.000000              1.360000e+07  ...   \n",
      "\n",
      "       highest_yearly_earnings  subscribers_for_last_30_days  created_year  \\\n",
      "count             9.950000e+02                  6.580000e+02    990.000000   \n",
      "mean              7.081814e+06                  3.490791e+05   2012.630303   \n",
      "std               1.379704e+07                  6.143554e+05      4.512503   \n",
      "min               0.000000e+00                  1.000000e+00   1970.000000   \n",
      "25%               5.217500e+05                  1.000000e+05   2009.000000   \n",
      "50%               2.600000e+06                  2.000000e+05   2013.000000   \n",
      "75%               7.300000e+06                  4.000000e+05   2016.000000   \n",
      "max               1.634000e+08                  8.000000e+06   2022.000000   \n",
      "\n",
      "       created_date  Gross tertiary education enrollment (%)    Population  \\\n",
      "count    990.000000                               872.000000  8.720000e+02   \n",
      "mean      15.746465                                63.627752  4.303873e+08   \n",
      "std        8.777520                                26.106893  4.727947e+08   \n",
      "min        1.000000                                 7.600000  2.025060e+05   \n",
      "25%        8.000000                                36.300000  8.335541e+07   \n",
      "50%       16.000000                                68.000000  3.282395e+08   \n",
      "75%       23.000000                                88.200000  3.282395e+08   \n",
      "max       31.000000                               113.100000  1.397715e+09   \n",
      "\n",
      "       Unemployment rate  Urban_population    Latitude   Longitude  \n",
      "count         872.000000      8.720000e+02  872.000000  872.000000  \n",
      "mean            9.279278      2.242150e+08   26.632783  -14.128146  \n",
      "std             4.888354      1.546874e+08   20.560533   84.760809  \n",
      "min             0.750000      3.558800e+04  -38.416097 -172.104629  \n",
      "25%             5.270000      5.590832e+07   20.593684  -95.712891  \n",
      "50%             9.365000      2.706630e+08   37.090240  -51.925280  \n",
      "75%            14.700000      2.706630e+08   37.090240   78.962880  \n",
      "max            14.720000      8.429340e+08   61.924110  138.252924  \n",
      "\n",
      "[8 rows x 21 columns]\n"
     ]
    }
   ],
   "source": [
    "# Basic statistics for numeric columns\n",
    "print(\"Basic statistics for numeric columns:\")\n",
    "print(youtube_data.describe())"
   ]
  },
  {
   "cell_type": "code",
   "execution_count": 13,
   "id": "0703fe47-7686-42d3-8135-b61bb4f39377",
   "metadata": {},
   "outputs": [
    {
     "name": "stdout",
     "output_type": "stream",
     "text": [
      "Missing values in YouTube data:\n",
      "rank                                         0\n",
      "Youtuber                                     0\n",
      "subscribers                                  0\n",
      "video views                                  0\n",
      "category                                    46\n",
      "Title                                        0\n",
      "uploads                                      0\n",
      "Country                                    122\n",
      "Abbreviation                               122\n",
      "channel_type                                30\n",
      "video_views_rank                             1\n",
      "country_rank                               116\n",
      "channel_type_rank                           33\n",
      "video_views_for_the_last_30_days            56\n",
      "lowest_monthly_earnings                      0\n",
      "highest_monthly_earnings                     0\n",
      "lowest_yearly_earnings                       0\n",
      "highest_yearly_earnings                      0\n",
      "subscribers_for_last_30_days               337\n",
      "created_year                                 5\n",
      "created_month                                5\n",
      "created_date                                 5\n",
      "Gross tertiary education enrollment (%)    123\n",
      "Population                                 123\n",
      "Unemployment rate                          123\n",
      "Urban_population                           123\n",
      "Latitude                                   123\n",
      "Longitude                                  123\n",
      "dtype: int64\n"
     ]
    }
   ],
   "source": [
    "# Check for missing values\n",
    "missing_values = youtube_data.isnull().sum()\n",
    "print(\"Missing values in YouTube data:\")\n",
    "print(missing_values)"
   ]
  },
  {
   "cell_type": "code",
   "execution_count": 15,
   "id": "ba1e5cc3-e015-42c8-a488-84e1fd9f8117",
   "metadata": {},
   "outputs": [
    {
     "name": "stdout",
     "output_type": "stream",
     "text": [
      "Unique values in 'category':\n",
      "['Music' 'Film & Animation' 'Entertainment' 'Education' 'Shows' nan\n",
      " 'People & Blogs' 'Gaming' 'Sports' 'Howto & Style' 'News & Politics'\n",
      " 'Comedy' 'Trailers' 'Nonprofits & Activism' 'Science & Technology'\n",
      " 'Movies' 'Pets & Animals' 'Autos & Vehicles' 'Travel & Events']\n",
      "Unique values in 'Country':\n",
      "['India' 'United States' nan 'Japan' 'Russia' 'South Korea'\n",
      " 'United Kingdom' 'Canada' 'Brazil' 'Argentina' 'Chile' 'Cuba'\n",
      " 'El Salvador' 'Pakistan' 'Philippines' 'Thailand' 'Colombia' 'Barbados'\n",
      " 'Mexico' 'United Arab Emirates' 'Spain' 'Saudi Arabia' 'Indonesia'\n",
      " 'Turkey' 'Venezuela' 'Kuwait' 'Jordan' 'Netherlands' 'Singapore'\n",
      " 'Australia' 'Italy' 'Germany' 'France' 'Sweden' 'Afghanistan' 'Ukraine'\n",
      " 'Latvia' 'Switzerland' 'Vietnam' 'Malaysia' 'China' 'Iraq' 'Egypt'\n",
      " 'Andorra' 'Ecuador' 'Morocco' 'Peru' 'Bangladesh' 'Finland' 'Samoa']\n"
     ]
    }
   ],
   "source": [
    "# Check unique values in specific columns\n",
    "print(\"Unique values in 'category':\")\n",
    "print(youtube_data['category'].unique())\n",
    "print(\"Unique values in 'Country':\")\n",
    "print(youtube_data['Country'].unique())"
   ]
  },
  {
   "cell_type": "code",
   "execution_count": 17,
   "id": "b42c9532-e1da-4f9e-bbab-b7c8dc1db3ed",
   "metadata": {},
   "outputs": [],
   "source": [
    "# Replace missing 'category' with \"Unknown\" and fill missing 'Country' with \"Not Specified\"\n",
    "youtube_data = youtube_data.assign(\n",
    "    category=youtube_data['category'].fillna(\"Unknown\"),\n",
    "    Country=youtube_data['Country'].fillna(\"Not Specified\")\n",
    ")"
   ]
  },
  {
   "cell_type": "code",
   "execution_count": 19,
   "id": "63edc2e2-668b-4336-a420-e4be4b55476e",
   "metadata": {},
   "outputs": [],
   "source": [
    "# Replace missing numeric values with column median\n",
    "numeric_columns = [\n",
    "    'subscribers_for_last_30_days',\n",
    "    'Gross tertiary education enrollment (%)',\n",
    "    'Population',\n",
    "    'Unemployment rate',\n",
    "    'Urban_population',\n",
    "    'Latitude',\n",
    "    'Longitude'\n",
    "]\n",
    "\n",
    "for col in numeric_columns:\n",
    "    youtube_data[col] = youtube_data[col].fillna(youtube_data[col].median())"
   ]
  },
  {
   "cell_type": "code",
   "execution_count": 21,
   "id": "a5ca6613-11c1-4058-a491-d95bb5e83f9f",
   "metadata": {},
   "outputs": [
    {
     "name": "stdout",
     "output_type": "stream",
     "text": [
      "Number of outliers in video views: 8\n"
     ]
    }
   ],
   "source": [
    "# Check for zero values in 'video views'\n",
    "video_views_outliers = youtube_data[youtube_data['video views'] == 0]\n",
    "print(f\"Number of outliers in video views: {len(video_views_outliers)}\")\n",
    "\n",
    "# Remove rows with zero earnings (if necessary)\n",
    "youtube_data = youtube_data[\n",
    "    ~((youtube_data['lowest_monthly_earnings'] == 0) & \n",
    "      (youtube_data['highest_monthly_earnings'] == 0))\n",
    "]"
   ]
  },
  {
   "cell_type": "code",
   "execution_count": 23,
   "id": "85146004-85d0-4eb4-b069-95f4a7c7ef33",
   "metadata": {},
   "outputs": [],
   "source": [
    "# Create a standardized 'created_date'\n",
    "youtube_data['created_date_standardized'] = youtube_data.apply(\n",
    "    lambda row: f\"{int(row['created_year'])}-{row['created_month'][:3]}-{int(row['created_date'])}\"\n",
    "    if not pd.isnull(row['created_year']) else \"Unknown\",\n",
    "    axis=1\n",
    ")"
   ]
  },
  {
   "cell_type": "code",
   "execution_count": 25,
   "id": "8188c7a7-844b-4891-8ab9-d028736ff82f",
   "metadata": {},
   "outputs": [],
   "source": [
    "# Load Internet Usage data\n",
    "internet_usage_data = pd.read_csv(internet_usage_data_path, encoding='ISO-8859-1')"
   ]
  },
  {
   "cell_type": "code",
   "execution_count": 27,
   "id": "4fd45c79-46af-424c-a64b-e4b26db92897",
   "metadata": {},
   "outputs": [
    {
     "name": "stdout",
     "output_type": "stream",
     "text": [
      "Shape of Internet Usage data: (238, 8)\n",
      "Columns in Internet Usage data: Index(['Location', 'Rate (WB)', 'Year', 'Rate (ITU)', 'Year.1', 'Users (CIA)',\n",
      "       'Year.2', 'Notes'],\n",
      "      dtype='object')\n",
      "Preview of Internet Usage data:\n",
      "         Location  Rate (WB)    Year  Rate (ITU)  Year.1  Users (CIA)  Year.2  \\\n",
      "0           World       67.4  2023.0        67.4  2023.0          NaN     NaN   \n",
      "1     Afghanistan       18.4  2020.0        17.6  2019.0    7020000.0  2020.0   \n",
      "2         Albania       83.1  2023.0        83.1  2023.0    2291000.0  2021.0   \n",
      "3         Algeria       71.2  2022.0        71.2  2022.0   31240000.0  2021.0   \n",
      "4  American Samoa        NaN     NaN         NaN     NaN      18135.0  2021.0   \n",
      "\n",
      "  Notes  \n",
      "0   NaN  \n",
      "1   NaN  \n",
      "2   NaN  \n",
      "3   NaN  \n",
      "4   NaN  \n"
     ]
    }
   ],
   "source": [
    "# Overview of the dataset\n",
    "print(\"Shape of Internet Usage data:\", internet_usage_data.shape)\n",
    "print(\"Columns in Internet Usage data:\", internet_usage_data.columns)\n",
    "print(\"Preview of Internet Usage data:\")\n",
    "print(internet_usage_data.head())"
   ]
  },
  {
   "cell_type": "code",
   "execution_count": 29,
   "id": "3705ec8d-4c41-4b20-a8d3-fe1590c588ea",
   "metadata": {},
   "outputs": [
    {
     "name": "stdout",
     "output_type": "stream",
     "text": [
      "Missing values in Internet Usage data:\n",
      "Location         0\n",
      "Rate (WB)       29\n",
      "Year            29\n",
      "Rate (ITU)      11\n",
      "Year.1          11\n",
      "Users (CIA)      6\n",
      "Year.2           7\n",
      "Notes          236\n",
      "dtype: int64\n"
     ]
    }
   ],
   "source": [
    "# Check for missing values\n",
    "missing_values_internet = internet_usage_data.isnull().sum()\n",
    "print(\"Missing values in Internet Usage data:\")\n",
    "print(missing_values_internet)"
   ]
  },
  {
   "cell_type": "code",
   "execution_count": 31,
   "id": "190f8f86-8876-4f26-8604-422ccadd679b",
   "metadata": {},
   "outputs": [
    {
     "name": "stdout",
     "output_type": "stream",
     "text": [
      "Data types in Internet Usage data:\n",
      "Location        object\n",
      "Rate (WB)      float64\n",
      "Year           float64\n",
      "Rate (ITU)     float64\n",
      "Year.1         float64\n",
      "Users (CIA)    float64\n",
      "Year.2         float64\n",
      "Notes           object\n",
      "dtype: object\n"
     ]
    }
   ],
   "source": [
    "# Data types of each column\n",
    "print(\"Data types in Internet Usage data:\")\n",
    "print(internet_usage_data.dtypes)"
   ]
  },
  {
   "cell_type": "code",
   "execution_count": 33,
   "id": "262c784d-d5d1-4688-a4e9-56ec3ccd8ecf",
   "metadata": {},
   "outputs": [
    {
     "name": "stdout",
     "output_type": "stream",
     "text": [
      "Basic statistics for numeric columns in Internet Usage data:\n",
      "        Rate (WB)         Year  Rate (ITU)       Year.1   Users (CIA)  \\\n",
      "count  209.000000   209.000000  227.000000   227.000000  2.320000e+02   \n",
      "mean    70.726794  2021.497608   68.581498  2020.991189  2.100017e+07   \n",
      "std     25.065249     1.721260   26.472938     3.572252  8.427049e+07   \n",
      "min     10.000000  2016.000000    1.200000  2000.000000  3.700000e+01   \n",
      "25%     54.400000  2021.000000   46.000000  2022.000000  2.537000e+05   \n",
      "50%     78.700000  2022.000000   77.700000  2022.000000  3.077700e+06   \n",
      "75%     89.900000  2022.000000   89.450000  2023.000000  9.945000e+06   \n",
      "max    100.000000  2023.000000  100.000000  2023.000000  1.022000e+09   \n",
      "\n",
      "            Year.2  \n",
      "count   231.000000  \n",
      "mean   2021.047619  \n",
      "std       0.232904  \n",
      "min    2020.000000  \n",
      "25%    2021.000000  \n",
      "50%    2021.000000  \n",
      "75%    2021.000000  \n",
      "max    2022.000000  \n"
     ]
    }
   ],
   "source": [
    "# Basic statistics for numeric columns\n",
    "print(\"Basic statistics for numeric columns in Internet Usage data:\")\n",
    "print(internet_usage_data.describe())"
   ]
  },
  {
   "cell_type": "code",
   "execution_count": 35,
   "id": "acf02679-6170-4195-bba3-cbf462f3ccf7",
   "metadata": {},
   "outputs": [
    {
     "name": "stdout",
     "output_type": "stream",
     "text": [
      "Unique values in 'Location':\n",
      "['World' 'Afghanistan' 'Albania' 'Algeria' 'American Samoa' 'Andorra'\n",
      " 'Angola' 'Anguilla' 'Antigua and Barbuda' 'Argentina' 'Armenia' 'Aruba'\n",
      " 'Australia' 'Austria' 'Azerbaijan' 'Bahamas' 'Bahrain' 'Bangladesh'\n",
      " 'Barbados' 'Belarus' 'Belgium' 'Belize' 'Benin' 'Bermuda' 'Bhutan'\n",
      " 'Bolivia' 'Bosnia and Herzegovina' 'Botswana' 'Brazil'\n",
      " 'British Virgin Islands' 'Brunei' 'Bulgaria' 'Burkina Faso' 'Burundi'\n",
      " 'Cambodia' 'Cameroon' 'Canada' 'Cape Verde' 'Cayman Islands'\n",
      " 'Central African Republic' 'Chad' 'Chile' 'China' 'Christmas Island'\n",
      " 'Cocos (Keeling) Islands' 'Colombia' 'Comoros' 'Cook Islands'\n",
      " 'Costa Rica' 'Croatia' 'Cuba' 'Curacao' 'Cyprus' 'Czech Republic'\n",
      " 'Democratic Republic of the Congo' 'Denmark' 'Djibouti' 'Dominica'\n",
      " 'Dominican Republic' 'East Timor' 'Ecuador' 'Egypt' 'El Salvador'\n",
      " 'Equatorial Guinea' 'Eritrea' 'Estonia' 'Eswatini' 'Ethiopia'\n",
      " 'Falkland Islands' 'Faroe Islands' 'Fiji' 'Finland' 'France'\n",
      " 'French Guiana' 'French Polynesia' 'Gabon' 'Gambia' 'Georgia' 'Germany'\n",
      " 'Ghana' 'Gibraltar' 'Greece' 'Greenland' 'Grenada' 'Guadeloupe' 'Guam'\n",
      " 'Guatemala' 'Guernsey' 'Guinea' 'Guinea-Bissau' 'Guyana' 'Haiti'\n",
      " 'Honduras' 'Hong Kong' 'Hungary' 'Iceland' 'India' 'Indonesia' 'Iran'\n",
      " 'Iraq' 'Ireland' 'Israel' 'Italy' 'Ivory Coast' 'Jamaica' 'Japan'\n",
      " 'Jersey' 'Jordan' 'Kazakhstan' 'Kenya' 'Kiribati' 'Kosovo' 'Kuwait'\n",
      " 'Kyrgyzstan' 'Laos' 'Latvia' 'Lebanon' 'Lesotho' 'Liberia' 'Libya'\n",
      " 'Liechtenstein' 'Lithuania' 'Luxembourg' 'Macao' 'Madagascar' 'Malawi'\n",
      " 'Malaysia' 'Maldives' 'Mali' 'Malta' 'Marshall Islands' 'Martinique'\n",
      " 'Mauritania' 'Mauritius' 'Mayotte' 'Mexico' 'Micronesia' 'Moldova'\n",
      " 'Monaco' 'Mongolia' 'Montenegro' 'Montserrat' 'Morocco' 'Mozambique'\n",
      " 'Myanmar' 'Namibia' 'Nauru' 'Nepal' 'Netherlands' 'New Caledonia'\n",
      " 'New Zealand' 'Nicaragua' 'Niger' 'Nigeria' 'Niue' 'Norfolk Island'\n",
      " 'North Macedonia' 'Northern Mariana Islands' 'Norway' 'Oman' 'Pakistan'\n",
      " 'Palau' 'Palestine' 'Panama' 'Papua New Guinea' 'Paraguay' 'Peru'\n",
      " 'Philippines' 'Pitcairn Islands' 'Poland' 'Portugal' 'Puerto Rico'\n",
      " 'Qatar' 'Republic of the Congo' 'RÃ©union' 'Romania' 'Russia' 'Rwanda'\n",
      " 'Saint Barthelemy' 'Saint Helena, Ascension, and Tristan da Cunha'\n",
      " 'Saint Kitts and Nevis' 'Saint Lucia' 'Saint Martin'\n",
      " 'Saint Pierre and Miquelon' 'Saint Vincent and the Grenadines' 'Samoa'\n",
      " 'San Marino' 'Sao Tome and Principe' 'Saudi Arabia' 'Senegal' 'Serbia'\n",
      " 'Seychelles' 'Sierra Leone' 'Singapore' 'Sint Maarten' 'Slovakia'\n",
      " 'Slovenia' 'Solomon Islands' 'Somalia' 'South Africa' 'South Korea'\n",
      " 'South Sudan' 'Spain' 'Sri Lanka' 'Sudan' 'Suriname' 'Sweden'\n",
      " 'Switzerland' 'Syria' 'Taiwan' 'Tajikistan' 'Tanzania' 'Thailand' 'Togo'\n",
      " 'Tokelau' 'Tonga' 'Trinidad and Tobago' 'Tunisia' 'Turkey' 'Turkmenistan'\n",
      " 'Turks and Caicos Islands' 'Tuvalu' 'Uganda' 'Ukraine'\n",
      " 'United Arab Emirates' 'United Kingdom' 'United States' 'Uruguay'\n",
      " 'US Virgin Islands' 'Uzbekistan' 'Vanuatu' 'Vatican City' 'Venezuela'\n",
      " 'Vietnam' 'Wallis and Futuna' 'Yemen' 'Zambia' 'Zimbabwe']\n",
      "Number of unique countries: 238\n",
      "Unique values in 'Rate (WB)':\n",
      "[ 67.4  18.4  83.1  71.2   nan  94.5  39.3  91.4  89.2  78.6  97.2  95.\n",
      "  95.3  88.   94.4 100.   44.5  76.2  91.5  94.6  70.4  33.8  98.4  86.8\n",
      "  73.3  83.4  77.3  84.2  77.7  99.   80.4  19.9  11.3  56.7  43.9  72.1\n",
      "  81.1  10.6  12.2  94.1  77.5  73.   27.3  85.1  83.2  73.2  68.1  91.2\n",
      "  86.   27.2  98.9  65.   85.2  40.8  72.7  72.2  62.9  66.8  26.6  93.2\n",
      "  58.3  19.4  97.6  93.5  73.7  54.2  81.9  92.5  69.8  85.   69.5  79.9\n",
      "  80.5  54.4  33.9  31.6  85.3  59.7  95.6  99.9  43.4  69.2  81.7  78.7\n",
      "  91.9  87.   43.8  90.5  92.9  89.4  99.8  79.8  66.2  92.2  90.1  47.\n",
      "  30.1  88.4  99.6  88.5  99.4  89.8  20.6  27.7  97.7  33.1  44.4  75.5\n",
      "  81.2  40.5  71.   98.6  83.9  88.2  89.9  21.2  48.1  62.2  83.3  49.6\n",
      "  97.   82.   95.7  61.1  16.9  35.5  97.9  33.   88.7  73.6  27.   78.1\n",
      "  74.7  75.2  86.9  85.8  87.3  36.3  92.3  34.4  76.5  75.8  76.3  57.\n",
      "  60.   85.4  86.7  30.4  96.9  90.4  47.3  27.6  12.1  95.5  50.1  28.7\n",
      "  97.3  35.8  36.1  31.9  89.5  37.6  66.7  80.   73.8  21.3  82.3  10.\n",
      "  79.2  97.1  64.4  89.   69.9  61.6  26.7  31.2  32.6]\n",
      "Unique values in 'Rate (ITU)':\n",
      "[ 67.4  17.6  83.1  71.2   nan  94.5  39.3  81.6  91.4  89.2  77.   97.2\n",
      "  94.9  95.3  88.   94.4 100.   44.5  76.2  91.5  94.6  70.4  33.8  98.4\n",
      "  86.8  73.3  83.4  77.3  84.2  77.7  99.   80.4  19.9  11.3  56.7  43.9\n",
      "  94.   72.1  81.1   7.5  12.2  94.1  77.5  72.8  16.4  54.   85.1  83.2\n",
      "  73.2  68.1  91.2  86.   27.2  98.8  65.   84.4  40.8  72.7  72.2  62.9\n",
      "  66.8  26.6  93.2  58.3  19.4  97.6  85.2  93.5  25.7  73.7  54.2  81.9\n",
      "  92.5  69.8  85.   69.5  79.9  23.4  80.5  54.4  83.6  33.9  31.6  85.3\n",
      "  59.7  95.6  99.9  43.4  69.2  81.7  78.7  91.9  87.   38.4  84.9  41.\n",
      "  90.5  92.9  89.4  99.7  79.8  66.2  92.2  90.1  47.   30.1  88.4  96.8\n",
      "  88.5  99.3  89.8  20.6  18.   97.7  83.9  33.1  42.   44.4  75.5   1.2\n",
      "  81.2  40.5  63.5  88.2  54.6  89.9  21.2  48.1  62.2  82.7  49.6  97.\n",
      "  82.   95.7  61.1  16.9  35.5  79.6  32.9  27.   86.6  73.6  78.1  74.7\n",
      "  75.2  86.4  85.8  87.3  36.2  36.3  34.4  76.5  74.2  75.3  57.   60.\n",
      "  85.4  86.7  30.4  94.3  87.2  90.4  45.   27.6  97.4  12.1  95.4  50.1\n",
      "  28.7  75.8  97.3  34.7  93.1  36.1  31.9  89.5  37.6   1.5  57.5  80.\n",
      "  73.8  21.3  10.   79.2  97.1  64.4  89.   69.9  61.6   9.   17.7  31.2\n",
      "  32.6]\n",
      "Unique values in 'Users (CIA)':\n",
      "[          nan 7.0200000e+06 2.2910000e+06 3.1240000e+07 1.8135000e+04\n",
      " 7.4260000e+04 1.1550000e+07 1.3056000e+04 8.9280000e+04 3.9150000e+07\n",
      " 2.2120000e+06 1.0680000e+05 2.4960000e+07 8.2770000e+06 8.6000000e+06\n",
      " 3.8540000e+05 1.5000000e+06 6.6300000e+07 2.4080000e+05 8.3520000e+06\n",
      " 1.0920000e+07 2.4800000e+05 4.4200000e+06 6.4000000e+04 6.7080000e+05\n",
      " 7.9200000e+06 2.5080000e+06 1.9240000e+06 1.7010000e+08 2.4087000e+04\n",
      " 4.4100000e+05 5.1750000e+06 4.8400000e+06 7.5400000e+05 1.0200000e+07\n",
      " 1.2420000e+07 3.5340000e+07 4.1300000e+05 5.5148000e+04 6.0500000e+05\n",
      " 3.0600000e+06 1.7100000e+07 1.0220000e+09 1.1390000e+03 8.0000000e+01\n",
      " 3.7960000e+07 2.2140000e+05 1.1382000e+04 4.3160000e+06 3.3210000e+06\n",
      " 7.8100000e+06 1.1195600e+05 8.0990000e+05 9.1300000e+06 2.1102720e+07\n",
      " 5.8410000e+06 7.5900000e+05 5.8320000e+04 9.3500000e+06 5.0700000e+05\n",
      " 1.3680000e+07 7.9200000e+07 3.9690000e+06 8.6400000e+05 7.9200000e+05\n",
      " 1.1830000e+06 7.0800000e+05 2.0400000e+07 3.7620000e+03 5.1728000e+04\n",
      " 8.0960000e+05 5.1150000e+06 5.5900000e+07 2.1810000e+05 1.6560000e+06\n",
      " 8.5800000e+05 2.8880000e+06 7.5530000e+07 2.2440000e+07 3.1152000e+04\n",
      " 7.8000000e+06 3.8920000e+04 9.3600000e+04 1.3685000e+05 9.1800000e+06\n",
      " 5.5069000e+04 4.9000000e+06 7.3500000e+05 6.8000000e+05 4.2900000e+06\n",
      " 4.8000000e+06 6.9750000e+06 8.6330000e+06 3.7000000e+05 6.4400000e+08\n",
      " 1.6740000e+08 6.9520000e+07 2.1560000e+07 4.7500000e+06 8.0100000e+06\n",
      " 4.4250000e+07 1.2150000e+07 2.2960000e+06 9.9600000e+07 9.6038000e+04\n",
      " 1.7290000e+07 1.5370000e+07 7.0200000e+04 1.7563000e+06 4.3000000e+06\n",
      " 5.0700000e+06 4.5880000e+06 1.7290000e+06 4.8720000e+06 1.1040000e+06\n",
      " 1.7680000e+06 3.0954000e+06 3.7440000e+04 2.4360000e+06 6.3360000e+05\n",
      " 6.0720000e+05 5.8000000e+06 3.2980000e+07 4.4720000e+05 7.4800000e+06\n",
      " 4.6110000e+05 1.6254000e+04 2.7140000e+06 8.8400000e+05 9.8800000e+07\n",
      " 4.4000000e+04 1.8910000e+06 3.1820000e+04 2.7720000e+06 5.1660000e+05\n",
      " 2.4730000e+03 3.2560000e+07 5.4400000e+06 2.3760000e+07 1.3250000e+06\n",
      " 1.0920000e+04 1.5600000e+07 1.6560000e+07 2.3780000e+05 4.8960000e+06\n",
      " 3.9330000e+06 5.5000000e+06 1.1550000e+08 1.5120000e+03 8.0600000e+02\n",
      " 1.7430000e+06 1.2299000e+04 5.3460000e+06 4.3200000e+06 4.8300000e+07\n",
      " 6.6960000e+03 7.5406510e+06 2.9920000e+06 3.1680000e+06 5.1590000e+06\n",
      " 2.4140000e+07 5.8300000e+07 3.7000000e+01 3.2300000e+07 8.2000000e+06\n",
      " 2.5641000e+06 2.7000000e+06 1.7943900e+06 1.5960000e+07 1.3200000e+08\n",
      " 3.9000000e+06 7.0770000e+03 2.2870000e+03 3.7920000e+04 1.4040000e+05\n",
      " 1.9284000e+04 5.0990000e+03 8.5000000e+04 1.7160000e+05 2.5500000e+04\n",
      " 1.1220000e+05 3.6000000e+07 9.8600000e+06 5.5890000e+06 9.0200000e+04\n",
      " 1.0474990e+06 5.3690000e+06 3.9089000e+04 4.8060000e+06 1.8690000e+06\n",
      " 2.5560000e+05 2.4650000e+06 4.2480000e+07 5.0960000e+07 8.6900000e+05\n",
      " 4.4180000e+07 1.4740000e+07 1.3248000e+07 4.0260000e+05 8.8000000e+06\n",
      " 8.4924680e+06 2.1600000e+07 3.0090540e+06 2.0480000e+07 6.1200000e+07\n",
      " 3.0100000e+06 8.0000000e+02 7.3700000e+04 1.1850000e+06 9.4800000e+06\n",
      " 6.8850000e+07 1.5630230e+06 3.7008000e+04 7.9200000e+03 4.6000000e+06\n",
      " 3.4596356e+07 9.4000000e+06 6.4990000e+07 3.1280000e+08 6.7508000e+04\n",
      " 2.6180000e+07 2.1120000e+05 3.8300000e+02 2.2734162e+07 7.1780000e+07\n",
      " 5.4960000e+03 8.2296240e+06 3.9900000e+06 5.6000000e+06]\n"
     ]
    }
   ],
   "source": [
    "# Check unique values in important columns\n",
    "print(\"Unique values in 'Location':\")\n",
    "print(internet_usage_data['Location'].unique())\n",
    "\n",
    "print(\"Number of unique countries:\", internet_usage_data['Location'].nunique())\n",
    "\n",
    "print(\"Unique values in 'Rate (WB)':\")\n",
    "print(internet_usage_data['Rate (WB)'].unique())\n",
    "\n",
    "print(\"Unique values in 'Rate (ITU)':\")\n",
    "print(internet_usage_data['Rate (ITU)'].unique())\n",
    "\n",
    "print(\"Unique values in 'Users (CIA)':\")\n",
    "print(internet_usage_data['Users (CIA)'].unique())"
   ]
  },
  {
   "cell_type": "code",
   "execution_count": 37,
   "id": "3a14500a-3aab-449e-b11c-c07ea64be76e",
   "metadata": {},
   "outputs": [],
   "source": [
    "# Clean Internet Usage data\n",
    "internet_usage_data.rename(columns={\"Location\": \"Country\"}, inplace=True)\n",
    "internet_usage_data['Country'] = internet_usage_data['Country'].str.strip()\n",
    "internet_usage_data.drop(columns=['Notes'], inplace=True)"
   ]
  },
  {
   "cell_type": "code",
   "execution_count": 39,
   "id": "e826f67b-48da-473d-bd9f-f4ccc7c2b4fc",
   "metadata": {},
   "outputs": [],
   "source": [
    "# Fill missing numeric values with column median\n",
    "numeric_columns_internet = ['Rate (WB)', 'Rate (ITU)', 'Users (CIA)']\n",
    "for col in numeric_columns_internet:\n",
    "    internet_usage_data[col] = internet_usage_data[col].fillna(internet_usage_data[col].median())"
   ]
  },
  {
   "cell_type": "code",
   "execution_count": 41,
   "id": "fcdac648-2cfa-4076-ac1f-7d4966e8e5cf",
   "metadata": {},
   "outputs": [
    {
     "name": "stdout",
     "output_type": "stream",
     "text": [
      "Preview of merged data:\n",
      "Shape of merged data: (906, 35)\n",
      "Columns in merged data: Index(['rank', 'Youtuber', 'subscribers', 'video views', 'category', 'Title',\n",
      "       'uploads', 'Country', 'Abbreviation', 'channel_type',\n",
      "       'video_views_rank', 'country_rank', 'channel_type_rank',\n",
      "       'video_views_for_the_last_30_days', 'lowest_monthly_earnings',\n",
      "       'highest_monthly_earnings', 'lowest_yearly_earnings',\n",
      "       'highest_yearly_earnings', 'subscribers_for_last_30_days',\n",
      "       'created_year', 'created_month', 'created_date',\n",
      "       'Gross tertiary education enrollment (%)', 'Population',\n",
      "       'Unemployment rate', 'Urban_population', 'Latitude', 'Longitude',\n",
      "       'created_date_standardized', 'Rate (WB)', 'Year', 'Rate (ITU)',\n",
      "       'Year.1', 'Users (CIA)', 'Year.2'],\n",
      "      dtype='object')\n",
      "Preview of merged data:\n",
      "   rank                    Youtuber  subscribers   video views  \\\n",
      "0     1                    T-Series    245000000  2.280000e+11   \n",
      "1     2              YouTube Movies    170000000  0.000000e+00   \n",
      "2     3                     MrBeast    166000000  2.836884e+10   \n",
      "3     4  Cocomelon - Nursery Rhymes    162000000  1.640000e+11   \n",
      "4     5                   SET India    159000000  1.480000e+11   \n",
      "\n",
      "           category                       Title  uploads        Country  \\\n",
      "0             Music                    T-Series    20082          India   \n",
      "1  Film & Animation               youtubemovies        1  United States   \n",
      "2     Entertainment                     MrBeast      741  United States   \n",
      "3         Education  Cocomelon - Nursery Rhymes      966  United States   \n",
      "4             Shows                   SET India   116536          India   \n",
      "\n",
      "  Abbreviation   channel_type  ...  Urban_population   Latitude  Longitude  \\\n",
      "0           IN          Music  ...       471031528.0  20.593684  78.962880   \n",
      "1           US          Games  ...       270663028.0  37.090240 -95.712891   \n",
      "2           US  Entertainment  ...       270663028.0  37.090240 -95.712891   \n",
      "3           US      Education  ...       270663028.0  37.090240 -95.712891   \n",
      "4           IN  Entertainment  ...       471031528.0  20.593684  78.962880   \n",
      "\n",
      "   created_date_standardized  Rate (WB)    Year  Rate (ITU)  Year.1  \\\n",
      "0                2006-Mar-13       43.4  2020.0        43.4  2020.0   \n",
      "1                 2006-Mar-5       97.1  2022.0        97.1  2022.0   \n",
      "2                2012-Feb-20       97.1  2022.0        97.1  2022.0   \n",
      "3                 2006-Sep-1       97.1  2022.0        97.1  2022.0   \n",
      "4                2006-Sep-20       43.4  2020.0        43.4  2020.0   \n",
      "\n",
      "   Users (CIA)  Year.2  \n",
      "0  644000000.0  2021.0  \n",
      "1  312800000.0  2021.0  \n",
      "2  312800000.0  2021.0  \n",
      "3  312800000.0  2021.0  \n",
      "4  644000000.0  2021.0  \n",
      "\n",
      "[5 rows x 35 columns]\n"
     ]
    }
   ],
   "source": [
    "# Merge datasets\n",
    "merged_data = pd.merge(youtube_data, internet_usage_data, on=\"Country\", how=\"left\")\n",
    "\n",
    "# Save the merged dataset\n",
    "merged_data.to_csv(\"Merged_Global_YouTube_and_Internet_Usage_Overview.csv\", index=False)\n",
    "\n",
    "# Preview the merged data\n",
    "print(\"Preview of merged data:\")\n",
    "print(\"Shape of merged data:\", merged_data.shape)\n",
    "print(\"Columns in merged data:\", merged_data.columns)\n",
    "print(\"Preview of merged data:\")\n",
    "\n",
    "print(merged_data.head())"
   ]
  },
  {
   "cell_type": "code",
   "execution_count": null,
   "id": "9b9c54fe-1730-4dc8-9164-5818c4b41195",
   "metadata": {},
   "outputs": [],
   "source": []
  },
  {
   "cell_type": "code",
   "execution_count": null,
   "id": "8cf9ead4-7a56-481a-a8e9-1d333ee170fa",
   "metadata": {},
   "outputs": [],
   "source": []
  },
  {
   "cell_type": "code",
   "execution_count": null,
   "id": "b39f7551-55a0-4ca5-b699-6c9cb6b5bfa1",
   "metadata": {},
   "outputs": [],
   "source": []
  }
 ],
 "metadata": {
  "kernelspec": {
   "display_name": "Python [conda env:base] *",
   "language": "python",
   "name": "conda-base-py"
  },
  "language_info": {
   "codemirror_mode": {
    "name": "ipython",
    "version": 3
   },
   "file_extension": ".py",
   "mimetype": "text/x-python",
   "name": "python",
   "nbconvert_exporter": "python",
   "pygments_lexer": "ipython3",
   "version": "3.12.7"
  }
 },
 "nbformat": 4,
 "nbformat_minor": 5
}
